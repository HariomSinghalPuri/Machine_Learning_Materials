{
 "cells": [
  {
   "cell_type": "markdown",
   "id": "8273e135-11f0-4c4f-a0b1-65c37c36fbb5",
   "metadata": {},
   "source": [
    "# NumPy Arrays "
   ]
  },
  {
   "cell_type": "raw",
   "id": "8f8ae086-c26f-4e29-a359-b9b6a70fb979",
   "metadata": {},
   "source": [
    "All U Need to know About Array."
   ]
  },
  {
   "cell_type": "markdown",
   "id": "ffbb3fa0-5f2a-4a9c-8a47-cdfd2b157e6a",
   "metadata": {},
   "source": [
    "NumPy - Numerical Python\n",
    "Advantages of Numpy : \n",
    "1. Allows Several Mathematical Operation\n",
    "2. Faster Operations "
   ]
  },
  {
   "cell_type": "code",
   "execution_count": 2,
   "id": "fb0f91db-1f2d-443f-b0b6-df370a5a4ed0",
   "metadata": {},
   "outputs": [],
   "source": [
    "# calling Numpy in Pythin \n",
    "import numpy as np"
   ]
  },
  {
   "cell_type": "code",
   "execution_count": 3,
   "id": "0d8ae276-c644-4061-8af6-e8cd834a92e9",
   "metadata": {},
   "outputs": [
    {
     "name": "stdout",
     "output_type": "stream",
     "text": [
      "[1, 2, 3, 4, 5]\n",
      "<class 'list'>\n",
      "[1 2 3 4 5]\n",
      "<class 'numpy.ndarray'>\n",
      "(5,)\n"
     ]
    }
   ],
   "source": [
    "# Change list into arrays using Numpy \n",
    "list1 = [1,2,3,4,5]\n",
    "print(list1)\n",
    "print(type(list1))\n",
    "\n",
    "# it is a List now we will change into a array\n",
    "arr1 = np.array(list1)\n",
    "print(arr1)\n",
    "print(type(arr1))\n",
    "print(arr1.shape)"
   ]
  },
  {
   "cell_type": "code",
   "execution_count": 4,
   "id": "16aaa892-7ac7-456d-82b9-387b0f9abb59",
   "metadata": {},
   "outputs": [
    {
     "name": "stdout",
     "output_type": "stream",
     "text": [
      "[[1 2 3 5 6]\n",
      " [5 6 7 8 9]\n",
      " [3 3 4 6 9]]\n",
      "<class 'numpy.ndarray'>\n"
     ]
    }
   ],
   "source": [
    "# How to Create Multi-Dimensional or We can Say 2D array\n",
    "list1 = [1,2,3,5,6]\n",
    "list2 = [5,6,7,8,9]\n",
    "list3 = [3,3,4,6,9]\n",
    "arr2D = np.array([list1,list2,list3])\n",
    "print(arr2D)\n",
    "print(type(arr2D))"
   ]
  },
  {
   "cell_type": "code",
   "execution_count": 8,
   "id": "fb42213d-1ba1-4c4c-be24-201159f01c12",
   "metadata": {},
   "outputs": [
    {
     "data": {
      "text/plain": [
       "(3, 5)"
      ]
     },
     "execution_count": 8,
     "metadata": {},
     "output_type": "execute_result"
    }
   ],
   "source": [
    "arr2D.shape    # This Will Tell You What is the Shape or We can Say Dimension of an Array\n",
    "# Remembers Arrays Rows and Columns always counted from 0 ."
   ]
  },
  {
   "cell_type": "code",
   "execution_count": 10,
   "id": "2d0b044f-4a64-4b73-ab92-643e970707ee",
   "metadata": {},
   "outputs": [
    {
     "name": "stdout",
     "output_type": "stream",
     "text": [
      "Original array [1 2 3 4 5]\n",
      "array after index changing [1 2 9 4 5]\n",
      "------------------------------------\n",
      "Original 2D array \n",
      " [[1 2 3 5 6]\n",
      " [5 6 7 8 9]\n",
      " [3 3 4 6 9]]\n",
      "array after index changing \n",
      " [[ 1  2  3  5  6]\n",
      " [ 5  6  7  8  9]\n",
      " [ 3 12  4  6  9]]\n"
     ]
    }
   ],
   "source": [
    "# Changing the index of an array.\n",
    "print(\"Original array\", arr1)\n",
    "arr1[2] = 9    # for our 1D array.\n",
    "print(\"array after index changing\", arr1)\n",
    "print(\"------------------------------------\")\n",
    "print(\"Original 2D array \\n\",  arr2D)\n",
    "arr2D[2,1] = 12   # For our 2D array.\n",
    "print(\"array after index changing \\n\", arr2D)\n",
    "\n"
   ]
  },
  {
   "cell_type": "raw",
   "id": "154a7e9a-da9c-4e02-bc63-689b761bd31e",
   "metadata": {},
   "source": [
    "Slicings in 1D Array."
   ]
  },
  {
   "cell_type": "code",
   "execution_count": 19,
   "id": "4724773c-06ae-4351-887a-b96970c0c844",
   "metadata": {},
   "outputs": [
    {
     "data": {
      "text/plain": [
       "array([1, 2, 9, 4, 5])"
      ]
     },
     "execution_count": 19,
     "metadata": {},
     "output_type": "execute_result"
    }
   ],
   "source": [
    "arr1  # First We have to call our 1D array."
   ]
  },
  {
   "cell_type": "code",
   "execution_count": 21,
   "id": "eca5ee94-2c07-4f02-b94e-57d6cc0994af",
   "metadata": {},
   "outputs": [
    {
     "name": "stdout",
     "output_type": "stream",
     "text": [
      "9\n",
      "[9 4 5]\n",
      "[5 4 9 2 1]\n",
      "[1 9 5]\n"
     ]
    }
   ],
   "source": [
    "# Indexing in 1D array or arr\n",
    "print(arr1[2])    # This will Directly tell what is the 3rd index in our 1st array.\n",
    "print(arr1[2:])   # This will print the indexs from 3rd index to last index for 1D array.\n",
    "print(arr1[::-1]) # This Will print a new Array which is reverse from the Previous one.\n",
    "print(arr1[::2])  # This will give you a list in which indexes jumping in multiple of 2. "
   ]
  },
  {
   "cell_type": "code",
   "execution_count": 23,
   "id": "428cfe1e-e92e-4053-bcef-52ad4f10e469",
   "metadata": {},
   "outputs": [
    {
     "data": {
      "text/plain": [
       "array([[ 1,  2,  3,  5,  6],\n",
       "       [ 5,  6,  7,  8,  9],\n",
       "       [ 3, 12,  4,  6,  9]])"
      ]
     },
     "execution_count": 23,
     "metadata": {},
     "output_type": "execute_result"
    }
   ],
   "source": [
    "arr2D  # First We have to call our 2D array."
   ]
  },
  {
   "cell_type": "code",
   "execution_count": 25,
   "id": "33f64714-cd77-4f27-8d16-2dfc18b9229a",
   "metadata": {},
   "outputs": [
    {
     "name": "stdout",
     "output_type": "stream",
     "text": [
      "12\n",
      "[ 2  6 12]\n",
      "[5 6 7 8 9]\n"
     ]
    }
   ],
   "source": [
    "# Indexing in 2D array or arr1\n",
    "print(arr2D[2,1])  # This will tell you what is in the index of {3,2} for arr2D. \n",
    "print(arr2D[:,1])  # This Will Give you a new array of complete 1 column of arr2D.\n",
    "print(arr2D[1,:])  # This Will Give You a new array of complete 1 row of arr2D."
   ]
  },
  {
   "cell_type": "raw",
   "id": "d4095258-2bfe-4820-bcc8-78176202185a",
   "metadata": {},
   "source": [
    "Like if we want a new array in arr2D of Dimension of 2X2 then "
   ]
  },
  {
   "cell_type": "code",
   "execution_count": 27,
   "id": "395ef729-6d1f-4490-aab2-484c9c612e52",
   "metadata": {},
   "outputs": [
    {
     "name": "stdout",
     "output_type": "stream",
     "text": [
      "Original array \n",
      " [[ 1  2  3  5  6]\n",
      " [ 5  6  7  8  9]\n",
      " [ 3 12  4  6  9]]\n",
      "New Array that what we get from original 2D array  \n",
      "[[ 6  7]\n",
      " [12  4]]\n"
     ]
    }
   ],
   "source": [
    "# using 1:  >>> this will del all items or we can we it will take all items except 1 row \n",
    "# using 1:3 >>> this will give us elements which are present on 1-2 in that column. \n",
    "\n",
    "print(\"Original array \\n\",arr2D)\n",
    "print(\"New Array that what we get from original 2D array  \")\n",
    "print(arr2D[1: ,1:3])  # This will Give you a 2D array of 2x2 "
   ]
  },
  {
   "cell_type": "raw",
   "id": "4c205a98-9fc2-4fd2-a2e1-041a72d1b79f",
   "metadata": {},
   "source": [
    "Like if we want a new array in arr2D of Dimension of 1X3 fro last row  then "
   ]
  },
  {
   "cell_type": "code",
   "execution_count": 29,
   "id": "7b0d4642-66c4-40fb-8cab-f1715e59ba72",
   "metadata": {},
   "outputs": [
    {
     "name": "stdout",
     "output_type": "stream",
     "text": [
      "Original array \n",
      " [[ 1  2  3  5  6]\n",
      " [ 5  6  7  8  9]\n",
      " [ 3 12  4  6  9]]\n",
      "New Array that what we get from original 2D array  \n",
      "[[4 6 9]]\n"
     ]
    }
   ],
   "source": [
    "# using 2:   >>> this will del all items except 3rd row.\n",
    "# using 2:5  >>> this will give us elemnts from 2 to 4 from 3rd column.\n",
    "print(\"Original array \\n\",arr2D)\n",
    "print(\"New Array that what we get from original 2D array  \")\n",
    "print(arr2D[2: ,2:5])"
   ]
  },
  {
   "cell_type": "raw",
   "id": "a6668db2-a11a-42ef-aaa2-bbcf2d161f98",
   "metadata": {},
   "source": [
    "Like if we want a new array in arr2D of Dimension of 3X2 fro last 2 coloumn then "
   ]
  },
  {
   "cell_type": "code",
   "execution_count": 31,
   "id": "e877ddc9-126c-4221-b551-d255c7ecfd6b",
   "metadata": {},
   "outputs": [
    {
     "name": "stdout",
     "output_type": "stream",
     "text": [
      "Original array \n",
      " [[ 1  2  3  5  6]\n",
      " [ 5  6  7  8  9]\n",
      " [ 3 12  4  6  9]]\n",
      "New Array that what we get from original 2D array  \n",
      "[[5 6]\n",
      " [8 9]\n",
      " [6 9]]\n"
     ]
    }
   ],
   "source": [
    "# using :   >>> this will take all the items from 0 to 2 row.\n",
    "# using 3:  >>> this will give us elemnts from .\n",
    "print(\"Original array \\n\",arr2D)\n",
    "print(\"New Array that what we get from original 2D array  \")\n",
    "print(arr2D[:,3:]) "
   ]
  },
  {
   "cell_type": "raw",
   "id": "43b6423c-5305-4ebe-a556-ef9b004946fd",
   "metadata": {},
   "source": [
    "Like if we want a new array in arr2D of Dimension of 3X2 of the first and last coloumn."
   ]
  },
  {
   "cell_type": "code",
   "execution_count": 33,
   "id": "51dd462a-e9c0-4899-8279-7fd9330ae635",
   "metadata": {},
   "outputs": [
    {
     "name": "stdout",
     "output_type": "stream",
     "text": [
      "Original array \n",
      " [[ 1  2  3  5  6]\n",
      " [ 5  6  7  8  9]\n",
      " [ 3 12  4  6  9]]\n",
      "New Array that what we get from original 2D array  \n",
      "[[1 6]\n",
      " [5 9]\n",
      " [3 9]]\n"
     ]
    }
   ],
   "source": [
    "# using :   >>> this will take all the items from 0 to 2 row.\n",
    "# using 0: :4  >>> this will give us elemnts from 1st coloumn and last column.\n",
    "print(\"Original array \\n\",arr2D)\n",
    "print(\"New Array that what we get from original 2D array  \")\n",
    "print(arr2D[:,0::4])"
   ]
  },
  {
   "cell_type": "raw",
   "id": "521cafc7-29d1-4620-800b-38625b57a8ab",
   "metadata": {},
   "source": [
    "Using Booleans in arrays:"
   ]
  },
  {
   "cell_type": "code",
   "execution_count": 35,
   "id": "51f4d7af-4c0d-48a9-b791-8b4dc4024c5f",
   "metadata": {},
   "outputs": [
    {
     "data": {
      "text/plain": [
       "array([1, 2, 9, 4, 5])"
      ]
     },
     "execution_count": 35,
     "metadata": {},
     "output_type": "execute_result"
    }
   ],
   "source": [
    "arr1  # This will print our New Array."
   ]
  },
  {
   "cell_type": "code",
   "execution_count": 39,
   "id": "66c1760e-86ab-43e1-810c-5654170e4192",
   "metadata": {},
   "outputs": [
    {
     "name": "stdout",
     "output_type": "stream",
     "text": [
      "[False False  True  True  True]\n"
     ]
    },
    {
     "data": {
      "text/plain": [
       "array([9, 4, 5])"
      ]
     },
     "execution_count": 39,
     "metadata": {},
     "output_type": "execute_result"
    }
   ],
   "source": [
    "# If want a array from our arr which is greater than 2 then:\n",
    "print(arr1>2)    # This will give us Booleans values \n",
    "arr1[arr1>2]      # This will create a new array only elements which is greater than 2."
   ]
  },
  {
   "cell_type": "raw",
   "id": "24fdb656-91fd-4fa9-9afe-ece22a00207c",
   "metadata": {},
   "source": [
    "Changing the dimension of aany array by using Built in function."
   ]
  },
  {
   "cell_type": "code",
   "execution_count": 41,
   "id": "f6306242-3de7-45b6-b86c-fa8cf8638f7d",
   "metadata": {},
   "outputs": [
    {
     "name": "stdout",
     "output_type": "stream",
     "text": [
      "Original array \n",
      " [[ 1  2  3  5  6]\n",
      " [ 5  6  7  8  9]\n",
      " [ 3 12  4  6  9]]\n",
      "New Array that what we get from original 2D array  \n",
      "[[ 1  2  3]\n",
      " [ 5  6  5]\n",
      " [ 6  7  8]\n",
      " [ 9  3 12]\n",
      " [ 4  6  9]]\n"
     ]
    }
   ],
   "source": [
    "# Changing the dimension of arr1 (3X5) to (5X3)\n",
    "print(\"Original array \\n\",arr2D)\n",
    "print(\"New Array that what we get from original 2D array  \")\n",
    "print(arr2D.reshape(5,3))"
   ]
  },
  {
   "cell_type": "raw",
   "id": "18501029-e389-4bae-a4d2-8998d887c2ef",
   "metadata": {},
   "source": [
    "Creating arrays by putting values of start,stop,step :"
   ]
  },
  {
   "cell_type": "code",
   "execution_count": 43,
   "id": "8f65491e-65e1-45a4-9a6a-3e6b584e3a9a",
   "metadata": {},
   "outputs": [
    {
     "name": "stdout",
     "output_type": "stream",
     "text": [
      "[ 1  3  5  7  9 11 13 15]\n",
      "[[ 1  3  5  7]\n",
      " [ 9 11 13 15]]\n",
      "[[ 1  3]\n",
      " [ 5  7]\n",
      " [ 9 11]\n",
      " [13 15]]\n"
     ]
    }
   ],
   "source": [
    "# Creating a 1D array\n",
    "arr2 = np.arange(1,16,2)  # Numpy Directly create a array by step value.\n",
    "print(arr2)\n",
    "\n",
    "# Now we can also reshape the array by our choice.\n",
    "arr3 = arr2.reshape(2,4)    # reshaping into dimension of 2X4.\n",
    "print(arr3)  \n",
    "\n",
    "arr4 = arr2.reshape(4,2)    # Reshaping into dimension of 4X2\n",
    "print(arr4)               "
   ]
  },
  {
   "cell_type": "raw",
   "id": "57d5f84a-8be3-4b52-9028-4d02a296f78a",
   "metadata": {},
   "source": [
    "Can We multiply or squares our arrays or any Other Calculation."
   ]
  },
  {
   "cell_type": "code",
   "execution_count": 45,
   "id": "48e1ea89-1318-4b4a-9a47-e9fea27db76f",
   "metadata": {},
   "outputs": [
    {
     "name": "stdout",
     "output_type": "stream",
     "text": [
      "Original Array [ 1  3  5  7  9 11 13 15]\n",
      "New Array  [  1   9  25  49  81 121 169 225]\n",
      "-------------------------------------------\n",
      "Original Array [ 1  3  5  7  9 11 13 15]\n",
      "New Array  [ 2  6 10 14 18 22 26 30]\n"
     ]
    }
   ],
   "source": [
    "# Yes Bhai !!!!\n",
    "print(\"Original Array\",arr2)\n",
    "arr5 = arr2*arr2  # our 1st array is multiply by itself and give us a new array.\n",
    "print(\"New Array \",arr5)\n",
    "\n",
    "print(\"-------------------------------------------\")\n",
    "\n",
    "print(\"Original Array\",arr2)\n",
    "arr6 = arr2 *2   # our 1st array is multiply by 2 and give us a new array.\n",
    "print(\"New Array \",arr6)"
   ]
  },
  {
   "cell_type": "raw",
   "id": "df5da92e-89eb-40ae-9398-2e5b855bab26",
   "metadata": {},
   "source": [
    "Can we create a Array which contain only ones or zeros."
   ]
  },
  {
   "cell_type": "code",
   "execution_count": 47,
   "id": "9bc65ea0-bc6b-48cd-8681-f683200cf847",
   "metadata": {},
   "outputs": [
    {
     "name": "stdout",
     "output_type": "stream",
     "text": [
      "Ones array of 3x3 \n",
      " [[1. 1. 1.]\n",
      " [1. 1. 1.]\n",
      " [1. 1. 1.]]\n",
      "Zeros array of 3x3 \n",
      " [[0. 0. 0.]\n",
      " [0. 0. 0.]\n",
      " [0. 0. 0.]]\n"
     ]
    }
   ],
   "source": [
    "arr7 = np.ones((3,3))\n",
    "print(\"Ones array of 3x3 \\n\",arr7)\n",
    "\n",
    "arr8 = np.zeros((3,3))\n",
    "print(\"Zeros array of 3x3 \\n\",arr8)"
   ]
  },
  {
   "cell_type": "raw",
   "id": "ea01aa1a-5288-4696-b1cb-4d4cdffaa8aa",
   "metadata": {},
   "source": [
    "can we create a array of specific value "
   ]
  },
  {
   "cell_type": "code",
   "execution_count": 49,
   "id": "e1304948-ae81-4846-92af-3dd3bf723b41",
   "metadata": {},
   "outputs": [
    {
     "name": "stdout",
     "output_type": "stream",
     "text": [
      "[[3 3 3 3]\n",
      " [3 3 3 3]\n",
      " [3 3 3 3]]\n"
     ]
    }
   ],
   "source": [
    "arr9 = np.full((3,4),3)\n",
    "print(arr9)"
   ]
  },
  {
   "cell_type": "raw",
   "id": "fe68c663-6dd3-432c-bd3c-aff04ececc12",
   "metadata": {},
   "source": [
    "Can we create array with daigonal only ones !!!"
   ]
  },
  {
   "cell_type": "code",
   "execution_count": 51,
   "id": "88dc4f84-4616-4c8f-88e4-7e3b505155aa",
   "metadata": {},
   "outputs": [
    {
     "name": "stdout",
     "output_type": "stream",
     "text": [
      "[[1. 0. 0. 0.]\n",
      " [0. 1. 0. 0.]\n",
      " [0. 0. 1. 0.]\n",
      " [0. 0. 0. 1.]]\n"
     ]
    }
   ],
   "source": [
    "arr10 = np.eye(4)\n",
    "print(arr10)"
   ]
  },
  {
   "cell_type": "code",
   "execution_count": 53,
   "id": "56c480bb-0cf2-40ea-934e-5237b36cf41e",
   "metadata": {},
   "outputs": [
    {
     "name": "stdout",
     "output_type": "stream",
     "text": [
      "[[0.96150886 0.84271576 0.82420734 0.42657851]\n",
      " [0.18386779 0.70754119 0.83330265 0.96627227]]\n"
     ]
    }
   ],
   "source": [
    "# array with random values \n",
    "arr11 = np.random.random((2,4))\n",
    "print(arr11)\n",
    "\n",
    "# we can see that we get values only from 0 to 1 "
   ]
  },
  {
   "cell_type": "code",
   "execution_count": 55,
   "id": "a2c9e992-ee7f-4d4d-85f4-34cb8919365f",
   "metadata": {},
   "outputs": [
    {
     "name": "stdout",
     "output_type": "stream",
     "text": [
      "[[87 86 55 49]\n",
      " [59 80 63 75]]\n"
     ]
    }
   ],
   "source": [
    "# array with intger value \n",
    "arr12 = np.random.randint(10,100,(2,4))\n",
    "print(arr12)"
   ]
  },
  {
   "cell_type": "raw",
   "id": "3799418b-78c6-49a2-a331-4a8585606d63",
   "metadata": {},
   "source": [
    "array with evenly spaced value --> specifying the  umber of value required : "
   ]
  },
  {
   "cell_type": "code",
   "execution_count": 57,
   "id": "9ba57737-acd5-4d53-92c4-acb25e7f3051",
   "metadata": {},
   "outputs": [
    {
     "name": "stdout",
     "output_type": "stream",
     "text": [
      "[10. 15. 20. 25. 30.]\n"
     ]
    }
   ],
   "source": [
    "arr13 = np.linspace(10,30,5)\n",
    "print(arr13)"
   ]
  },
  {
   "cell_type": "raw",
   "id": "244998fe-a3cd-48f2-aee3-b485d487cda4",
   "metadata": {},
   "source": [
    "array with evenly spaced value --> specifying the step "
   ]
  },
  {
   "cell_type": "code",
   "execution_count": 59,
   "id": "caf5ce4d-ea83-47af-bf02-a10a7259cc09",
   "metadata": {},
   "outputs": [
    {
     "name": "stdout",
     "output_type": "stream",
     "text": [
      "[10 15 20 25]\n"
     ]
    }
   ],
   "source": [
    "arr13 = np.arange(10,30,5)    #  remember that the value you will got is (n-1)\n",
    "print(arr13)"
   ]
  },
  {
   "cell_type": "raw",
   "id": "6343540c-73c4-4888-a825-35ee23cc0090",
   "metadata": {},
   "source": [
    "Can We create a Random Array by Python and and Reshape it."
   ]
  },
  {
   "cell_type": "code",
   "execution_count": 61,
   "id": "0a258f09-5e82-4540-9944-58c1ba2be984",
   "metadata": {},
   "outputs": [
    {
     "name": "stdout",
     "output_type": "stream",
     "text": [
      "[[75 97 73 89 11]\n",
      " [45 75  3  4 61]\n",
      " [22 60 24 82 44]\n",
      " [32 58 96 39 81]\n",
      " [25  9 30 22 99]]\n",
      "Size of The array 25\n"
     ]
    }
   ],
   "source": [
    "arr14 = np.random.randint(1,100,25).reshape(5,5)\n",
    "print(arr14)\n",
    "print(\"Size of The array\",arr14.size)"
   ]
  }
 ],
 "metadata": {
  "kernelspec": {
   "display_name": "Python 3 (ipykernel)",
   "language": "python",
   "name": "python3"
  },
  "language_info": {
   "codemirror_mode": {
    "name": "ipython",
    "version": 3
   },
   "file_extension": ".py",
   "mimetype": "text/x-python",
   "name": "python",
   "nbconvert_exporter": "python",
   "pygments_lexer": "ipython3",
   "version": "3.12.4"
  }
 },
 "nbformat": 4,
 "nbformat_minor": 5
}
