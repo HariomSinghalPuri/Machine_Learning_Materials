{
 "cells": [
  {
   "cell_type": "markdown",
   "id": "51a4a75d-5e1f-4797-84f5-62be1a28e982",
   "metadata": {},
   "source": [
    "# Lect_001"
   ]
  },
  {
   "cell_type": "raw",
   "id": "31e2878e-8ef0-4cbc-84d8-32ce60edf0aa",
   "metadata": {},
   "source": [
    "Comments, Escape Sequence and Print Statements."
   ]
  },
  {
   "cell_type": "code",
   "execution_count": 2,
   "id": "77d35d61-b032-47ab-af75-32b2cfdbc1a0",
   "metadata": {},
   "outputs": [
    {
     "name": "stdout",
     "output_type": "stream",
     "text": [
      "Hello World !!!!\n",
      "This is first print.This is second print.\n",
      "This is first print. This is second print.\n",
      "This is first print,This is second print.\n",
      "hello i will write my name in the next sequance \n",
      "Singhalpuri07\n",
      "hii\n"
     ]
    }
   ],
   "source": [
    "# This is first comment example.\n",
    "print(\"Hello World !!!!\")\n",
    "\n",
    "'''\n",
    "Multi line comment example. \n",
    "With triple qoute we can comment multiple lines.\n",
    "'''\n",
    "\n",
    "# end is merging last print line.\n",
    "print(\"This is first print.\", end=\"\")\n",
    "print(\"This is second print.\")\n",
    "\n",
    "# end with space.\n",
    "print(\"This is first print.\", end=\" \")\n",
    "print(\"This is second print.\")\n",
    "\n",
    "#end with comma\n",
    "print(\"This is first print\", end=\",\")\n",
    "print(\"This is second print.\")\n",
    "\n",
    "# agar end=\" \" istemaal kiye to use line me likha jaega \n",
    "\n",
    "# Now Singhal ab new line me print hoga.\n",
    "print(\"hello i will write my name in the next sequance \\nSinghalpuri07\")\n",
    "print(\"hii\")"
   ]
  },
  {
   "cell_type": "markdown",
   "id": "51d49eee-324c-4cee-9575-4a7901b46eed",
   "metadata": {},
   "source": [
    "# Lect_002"
   ]
  },
  {
   "cell_type": "raw",
   "id": "93fef668-f88f-4ea2-9c7f-98f4e8851210",
   "metadata": {},
   "source": [
    "str() int() float()"
   ]
  },
  {
   "cell_type": "code",
   "execution_count": 5,
   "id": "88ff575a-d5f5-4fb2-832f-cc517cd02dd2",
   "metadata": {},
   "outputs": [
    {
     "name": "stdout",
     "output_type": "stream",
     "text": [
      "Hello World !!\n",
      "<class 'str'>\n",
      "Hello World !!4\n",
      "Hello World !!Singhal\n",
      "42.2\n",
      "14\n",
      "Hello World !!!\n",
      "Hello World !!!\n",
      "Hello World !!!\n",
      "Hello World !!!\n",
      "Hello World !!!\n",
      "Hello World !!!\n",
      "Hello World !!!\n",
      "Hello World !!!\n",
      "Hello World !!!\n",
      "Hello World !!!\n",
      "\n",
      "1400\n",
      "14141414141414141414141414141414141414141414141414141414141414141414141414141414141414141414141414141414141414141414141414141414141414141414141414141414141414141414141414141414141414141414141414141414\n"
     ]
    }
   ],
   "source": [
    "var1 = \"Hello World !!\" # String Variable jo double quote ke andar hai wo hamesa string hi rhta hai\n",
    "var2 = \"4\"              # Integer Variable\n",
    "var3 = 38.2             # Float Variable\n",
    "var4 = \"Singhal\"        # String Variable\n",
    "var5 = \"10\"             # Integer Variable\n",
    "\n",
    "\n",
    "print(var1)           #ye print kr dega hello world ko \n",
    "print(type(var1))     #ye print hello world ko nhi karega balki uska type batayega means string\n",
    "print(var1 + var2)    #ye to bs dono ko direct print kr dega ( hello world 4)\n",
    "print(var1 + var4)    #same kahani \n",
    "#print(var2 + var3) #Run nhi hoha kyuki hm ek string aur ek float ko add krna cha rhe hai. agla line run karega.\n",
    "print(int(var2) + var3)\n",
    "\n",
    "# print(var2+var5) \n",
    "# now it is concatenating matlab error show kr dega bhai kyu kyuki maschine usko int ke form me nhi le rha. to usko int banao bhai.\n",
    "# now  agla line kro run karega try kro \n",
    "\n",
    "print(int(var2) + int(var5)) # Type casting example. Ye run karega.\n",
    "\n",
    "\n",
    "\n",
    "\n",
    "print(10 * \"Hello World !!!\\n\")             # Iske through hello world 10 times print hoga\n",
    "print(100 * (int(var5) + int(var2)))        # int(var5) + int(var2) iska value 14 aega ab usko bhi ham multiply kr sakte hai. ans is 1400\n",
    "print(100 * str(int(var5) + int(var2)))     # add hone baad wo 14 bana jisko ham str() iska matlab ab maschine 14 ko 100 times likh dega"
   ]
  },
  {
   "cell_type": "markdown",
   "id": "28145805-9da3-433f-b8ce-5eacbb50ae27",
   "metadata": {},
   "source": [
    "# Lect_003"
   ]
  },
  {
   "cell_type": "raw",
   "id": "5a3ce6b6-5fb9-40f2-8dd2-93d8080c5f8a",
   "metadata": {},
   "source": [
    "So ab padhenge String Slicing And Other Functions. to first ek string lenge."
   ]
  },
  {
   "cell_type": "code",
   "execution_count": 8,
   "id": "f9d75570-4f7d-45e7-be88-3ba1154b93b5",
   "metadata": {},
   "outputs": [
    {
     "name": "stdout",
     "output_type": "stream",
     "text": [
      "29\n",
      "python\n",
      "1\n",
      "pto\n",
      "ph  rvtaue\n",
      ".an ayvioy\n",
      "True\n",
      "Python is very vast language.\n",
      "10\n",
      "python is very vast language.\n",
      "PYTHON IS VERY VAST LANGUAGE.\n",
      "python is a vast language.\n"
     ]
    }
   ],
   "source": [
    "mystr = \"python is very vast language.\"                          \n",
    "\n",
    "'''1 2 3 4 5 6 7 8 9 10 11 12 13 14 15 16 17 18 19 20 21 22 23 24 25 26 27 28 29        Ye Hmlog padhega\n",
    "\n",
    "   p y t h o n   i s     v  e  r  y     v  a  s  t     l  a  n  g  u  a  g  e  .\n",
    "\n",
    "   0 1 2 3 4 5 6 7 8 9   10 11 12 13 14 15 16 17 18 19 20 21 22 23 24 25 26 27 28 29    ye maschine Padhega   '''\n",
    "\n",
    "\"to ab alag alag function ka using samajhte hai\"\n",
    "\n",
    "print(len(mystr)) # iska use str me kita length hai wo nikalne ke liye hoga.\n",
    "\n",
    "print(mystr[0:6]) # iska use alphabet me 0-6 tak yani 1-6 alphabets hai usko niaklne ke liye hoga.\n",
    "\n",
    "print(mystr.count(\"vast\"))  # strig ke jitne words likhoge uska count batayga.\n",
    "\n",
    "print(mystr[0:6:2]) # skipping karega alphabets me 1-6 me wo 1-3-5 show karega.\n",
    "\n",
    "print(mystr[::3]) # alphabet print karega suru se end tak bs skipping 3 ka hoga.\n",
    "\n",
    "print(mystr[::-3]) # alphabet print karega end se suru tak bs skipping 3 ka hoga.\n",
    "\n",
    "print(mystr.endswith(\"language.\")) # fn. check karega ki word available hai ki nhi hoga to false warna True\n",
    "\n",
    "print(mystr.capitalize()) # statement ke first word ke first alphabet ko capitak kr dega.\n",
    "\n",
    "print(mystr.find(\"very\")) # statement ko khojega aur batayga ki kis no. pr present hai.\n",
    "\n",
    "print(mystr.lower()) # complete sentence ko ye fn. lower alphabet me likh dega.\n",
    "\n",
    "print(mystr.upper()) # complete sentence ko ye fn. UPPER alphabet me likh dega.\n",
    "\n",
    "print(mystr.replace(\"very\", \"a\")) # Replace krne wala fn. hai."
   ]
  },
  {
   "cell_type": "markdown",
   "id": "62f59dce-fdb1-4b52-a2c7-f3016574b0c5",
   "metadata": {},
   "source": [
    "# Lect_004"
   ]
  },
  {
   "cell_type": "raw",
   "id": "57132406-bd4b-45a8-b440-1d7779deab9f",
   "metadata": {},
   "source": [
    "Lists aur Lists ke Function ko Samjhte hai."
   ]
  },
  {
   "cell_type": "code",
   "execution_count": 11,
   "id": "09609ac7-d3dc-4a3d-8262-0c01d15e8af2",
   "metadata": {},
   "outputs": [
    {
     "name": "stdout",
     "output_type": "stream",
     "text": [
      "mouse\n",
      "67\n",
      "[8, 9, 11]\n",
      "67\n",
      "2\n",
      "[2, 7, 8, 9, 11, 67]\n",
      "[67, 11, 9, 8, 7, 2]\n",
      "[67, 11, 9, 8, 7, 2, '10', 'singhal', '1987']\n",
      "[67, 54, 74, 78, 11, 9, 8, 7, 2, '10', 'singhal', '1987']\n",
      "[67, 74, 78, 11, 9, 8, 7, 2, '10', 'singhal', '1987']\n",
      "[67, 227, 78, 11, 9, 8, 7, 2, '10', 'singhal', '1987']\n",
      "<class 'tuple'>\n",
      "(1, 2, 3)\n",
      "2 1\n"
     ]
    }
   ],
   "source": [
    "laptop = [\"ram\", \"battery\", \"hdd\", \"led\", \"wifi\", \"mouse\", 227]\n",
    "\n",
    "print(laptop[5]) # lists ke 5 yani 6 positiosn wala str. print karega.\n",
    "\n",
    "numbers = [2, 8, 9, 11, 67, 7]\n",
    "\n",
    "print(numbers[4]) # lists ke 4 yani 5 positiosn wala int. print karega.\n",
    "print(numbers[1:4]) # print karega lists ke andar wale integer ko jo 1 se 4 tk ho yani 1 wale 2 wale aur 3 wale tak bs.\n",
    "\n",
    "# lists ka Max and Min kaise nikale.\n",
    "print(max(numbers)) # lists ke maximum value wale ke no. ko print karega.\n",
    "print(min(numbers)) # lists ke minimum value wale ke no. ko print karega.\n",
    "\n",
    "\n",
    "# lists ka Alat palat ka kaam kaise kare me.\n",
    "numbers.sort() # sort() fn. ka use lists ke no. ko accending order me daalne ke liye.\n",
    "print(numbers)\n",
    "numbers.reverse()  # reverse() fn same hai sort() ka bs list ko palat deta hai.\n",
    "print(numbers)\n",
    "\n",
    "\n",
    "#Numbers ko add kaise kare lists me.\n",
    "numbers.append('10')           #append() ka use kiye kisi bhi no. ya string ko add krne ke liye.\n",
    "numbers.append('singhal')\n",
    "numbers.append('1987')\n",
    "print(numbers)\n",
    "\n",
    "\n",
    "#lists me index ke hisab se no. ko replace kaise kare.\n",
    "numbers.insert(1, 54) # list.insert(index no. , change kya krna hai) use hota hai index by replace property ke liye.\n",
    "numbers.insert(2, 74)\n",
    "numbers.insert(3, 78)\n",
    "print(numbers)\n",
    "\n",
    "\n",
    "#lists me no. ko delete kaise kare.\n",
    "numbers.pop(1)    #matlab index 1 wala No. delete hoga lists me se.\n",
    "print(numbers)\n",
    "\n",
    "\n",
    "#Tuples ka use kaise hota hai!!!\n",
    "numbers[1] = 227 #tuples basically replacement ka kaam krta hai bs number[index No.] = any No. and yupp you got your new lists.\n",
    "print(numbers)\n",
    "\n",
    "Singhal = (1, 2, 3)\n",
    "print(type(Singhal))\n",
    "print(Singhal)\n",
    "\n",
    "# Number Swwapping kaise krte hai.\n",
    "a = 1\n",
    "b = 2\n",
    "a, b = b, a\n",
    "print(a, b) "
   ]
  },
  {
   "cell_type": "markdown",
   "id": "63181eb1-127e-4c6f-af26-824dba85019a",
   "metadata": {},
   "source": [
    "# Lect_005"
   ]
  },
  {
   "cell_type": "raw",
   "id": "d57a58ee-629c-4da5-abf8-6533a52d7c83",
   "metadata": {},
   "source": [
    "Lets talk about Dictionaries."
   ]
  },
  {
   "cell_type": "raw",
   "id": "6342874b-f0c8-4caf-8427-d0a818d5eaf7",
   "metadata": {},
   "source": [
    "Structure:\n",
    "d1 = {\"Name\" :\" Singhal puri\"}\n",
    "print(type(d1))\n",
    "print(d1)"
   ]
  },
  {
   "cell_type": "code",
   "execution_count": 14,
   "id": "c39e1f71-843f-4011-ac9f-e021d2c097f5",
   "metadata": {},
   "outputs": [
    {
     "name": "stdout",
     "output_type": "stream",
     "text": [
      "{'1': 'Sacred Games', '2': 'Mirzapur', '3': 'Deadpool 2'}\n",
      "{'2017': 'Maaya', '2016': 'Naagin', 'web-series': {'1': 'Sacred Games', '2': 'Mirzapur', '3': 'Deadpool 2'}, '2018': 'Simba'}\n",
      "{'2017': 'Maaya', '2016': 'Naagin', 'web-series': {'1': 'Sacred Games', '2': 'Mirzapur', '3': 'Deadpool 2'}}\n",
      "{'2016': 'Naagin', 'web-series': {'1': 'Sacred Games', '2': 'Mirzapur', '3': 'Deadpool 2'}}\n",
      "Maaya\n",
      "{'2017': 'Maaya', '2016': 'Naagin', 'web-series': {'1': 'Sacred Games', '2': 'Mirzapur', '3': 'Deadpool 2'}, 'Amit': 'Lazy Person'}\n",
      "dict_keys(['2017', '2016', 'web-series', 'Amit'])\n",
      "dict_items([('2017', 'Maaya'), ('2016', 'Naagin'), ('web-series', {'1': 'Sacred Games', '2': 'Mirzapur', '3': 'Deadpool 2'}), ('Amit', 'Lazy Person')])\n"
     ]
    }
   ],
   "source": [
    "d2 = { \"2017\": \"Maaya\",\n",
    "       \"2016\": \"Naagin\",\n",
    "       \"web-series\": {\"1\":\"Sacred Games\", \"2\":\"Mirzapur\", \"3\":\"Deadpool 2\"}}      # pehle ek dictionary banaye.\n",
    "d2[\"2018\"] = \"Simba\"      # dictionary me add krne ke liye use krte hai.  \n",
    "\n",
    "print(d2[\"web-series\"])   # dictionary ke andar webseries me kya hai print krne ke use krte hai.\n",
    "print(d2)                 # Now print krte hai to final output milega.\n",
    "\n",
    "del d2 ['2018']           # Kuch delete krna hai dictionary se tb use kro.\n",
    "print(d2)                 # Now print krte hai to final output milega.\n",
    "#print(d2[\"2018\"])         # ye type kroge to error batayega.\n",
    "\n",
    "\n",
    "d3 = d2.copy()            # ye ek naya dictionary bana dega jo ki d2 se copy hoga.\n",
    "del d3[\"2017\"]            # ye d3 ka 2017 ka elemnt ko delete hoga.\n",
    "print(d3)\n",
    "\n",
    "\n",
    "print(d2.get(\"2017\"))     # Apne dictionary se kuch output chahiye tb use kro.\n",
    "\n",
    "\n",
    "d2.update({\"Amit\":\"Lazy Person\"})    # Dictionary me kuch update  krna hai tb use kro\n",
    "print(d2)                             # Get your final result.\n",
    "\n",
    "print(d2.keys())\n",
    "print(d2.items())"
   ]
  },
  {
   "cell_type": "markdown",
   "id": "abb4798b-1d76-4874-8ed1-48e25682117d",
   "metadata": {},
   "source": [
    "# Lect_006"
   ]
  },
  {
   "cell_type": "raw",
   "id": "5f43ff0e-05ad-40f5-8a09-85b9fdb5a175",
   "metadata": {},
   "source": [
    "set function ka Use !!!  \n",
    "   1)sets me kaise bhi no. ko likh print me wo sahi kr dega aacendinge order me.\n",
    "   2) koi bhi duplicate no. pr error show kr dega."
   ]
  },
  {
   "cell_type": "code",
   "execution_count": 17,
   "id": "7b6c6225-6e16-4f0f-9d31-563baa60beed",
   "metadata": {},
   "outputs": [
    {
     "name": "stdout",
     "output_type": "stream",
     "text": [
      "{1, 2, 3, 4, 5, 6, 7, 8, 9, 10, 'Singhal'}\n",
      "{200, 10, 300}\n",
      "{4, 5, 6, 7, 8}\n",
      "<class 'set'>\n",
      "11\n",
      "{1, 2, 3, 4, 5, 6, 7, 8, 9, 10}\n",
      "{1, 2, 3, 4, 5, 6, 7, 8, 9, 10, 11}\n",
      "set()\n",
      "{1, 2, 3, 4, 5}\n",
      "{4, 5}\n",
      "{1, 2, 3, 4, 5, 6, 7, 8}\n"
     ]
    }
   ],
   "source": [
    "s1 = set([10,8,3,4,5,6,7,9,1,2,\"Singhal\"])    \n",
    "s2 = set([10,200,300])\n",
    "s3 = {5,4,6,7,8}\n",
    "s4 = {1,2,3,4,5}         # Sets likhne ka dusra trika.\n",
    "print(s1)                # Mera set1 ko print kr dega.\n",
    "print(s2)                # Mera set2 ko print kr dega.\n",
    "print(s3)                # Mera set3 ko print kr dega.     \n",
    "print(type(s1))          # Mere set1 ka type print karega jo ki set hai.\n",
    "print(len(s1))           # Mere Set1 me kitna elements hai wo likh dega.\n",
    "\n",
    "# Elements remove kaise kare.\n",
    "s1.remove(\"Singhal\")\n",
    "print(s1)          \n",
    "\n",
    "# Elements add kaise kare.\n",
    "s1.add(11)\n",
    "print(s1)\n",
    "\n",
    "# Elements ko ek baar me clear kaise kare.\n",
    "s1.clear()\n",
    "print(s1)\n",
    "\n",
    "'''union aur intersection function s3 aur s4 ke liye hi kaam karega \n",
    "   s1 aur s2 ke liye nhi karega kyuki wo old version ka typing hai'''\n",
    "\n",
    "# Elemnts ka Union lete hai.\n",
    "s5 = s4.union(s3)\n",
    "print(s4)\n",
    "\n",
    "# Elements ka intersection lete hai.\n",
    "s6 = s3.intersection(s4)\n",
    "print(s6)\n",
    "\n",
    "s6 = s3 | s4\n",
    "print(s6)"
   ]
  },
  {
   "cell_type": "markdown",
   "id": "25c54d37-4ce7-4148-98d5-7c8752d6ac52",
   "metadata": {},
   "source": [
    "# Lect_007"
   ]
  },
  {
   "cell_type": "raw",
   "id": "04db7662-b7f0-45af-aada-0059863c3ec8",
   "metadata": {},
   "source": [
    "if-else & Elif use krte hai."
   ]
  },
  {
   "cell_type": "code",
   "execution_count": 20,
   "id": "92548ebb-7931-400e-8da4-9c534db8269c",
   "metadata": {},
   "outputs": [
    {
     "name": "stdin",
     "output_type": "stream",
     "text": [
      "Enter your 1st Number :  25\n",
      "Enter your 2nd Number :  52\n",
      "Enter your 3rd Number :  15\n"
     ]
    },
    {
     "name": "stdout",
     "output_type": "stream",
     "text": [
      "number 1 is lesser than 2.\n",
      "True\n",
      "Yes, it is in the list.\n"
     ]
    },
    {
     "name": "stdin",
     "output_type": "stream",
     "text": [
      "Enter your Age :  18\n"
     ]
    },
    {
     "name": "stdout",
     "output_type": "stream",
     "text": [
      "Please came back after sometime.\n"
     ]
    }
   ],
   "source": [
    "num1 = int(input(\"Enter your 1st Number : \"))\n",
    "num2 = int(input(\"Enter your 2nd Number : \"))\n",
    "num3 = int(input(\"Enter your 3rd Number : \"))\n",
    "if num1>num2:\n",
    "    print(\"number 1 is Greater than 2.\")\n",
    "elif num1<num2:\n",
    "    print(\"number 1 is lesser than 2.\")\n",
    "elif num1==num2:\n",
    "    print(\"Equal\")    \n",
    "elif num1>num3:\n",
    "    print(\"number 1 is Greater than 3.\")    \n",
    "elif num1<num3:\n",
    "    print(\"number 1 is lesser than 3.\")   \n",
    "elif num1==num3:\n",
    "    print(\"number 1 is equal to number 3\")     \n",
    "elif num2>num3:\n",
    "    print(\"number 2 is Greater than 3.\")    \n",
    "elif num2<num3:\n",
    "    print(\"number 2 is lesser than 3.\")   \n",
    "elif num2==num3:\n",
    "    print(\"number 2 is equal to number 3\")        \n",
    "else:\n",
    "      print(\"Your input is wrong\")\n",
    "\n",
    "\n",
    "\n",
    "'''A Programm for checking NUmber is in list or not '''\n",
    "\n",
    "list1 = [5, 7, 3]\n",
    "print(5 in list1)\n",
    "if 5 in list1:\n",
    "  print(\"Yes, it is in the list.\")\n",
    "\n",
    "\n",
    "''' A programm For Eligibility for driving '''\n",
    "\n",
    "age1 = int(input(\"Enter your Age : \"))\n",
    "if age1>18:\n",
    "    print(\"Eligible for driving.\")\n",
    "elif age1==18:\n",
    "    print(\"Please came back after sometime.\")\n",
    "else:\n",
    "    print(\"Not Eligible for driving.\")"
   ]
  },
  {
   "cell_type": "markdown",
   "id": "890c0331-6d57-46f1-b5c3-2558883c2648",
   "metadata": {},
   "source": [
    "# Lect_008"
   ]
  },
  {
   "cell_type": "raw",
   "id": "858dfd8a-e6b7-44ac-9f92-da807f6d0fd9",
   "metadata": {},
   "source": [
    "For loops in Python."
   ]
  },
  {
   "cell_type": "code",
   "execution_count": 23,
   "id": "010d57c6-882e-4246-afbe-8b07e80e6935",
   "metadata": {},
   "outputs": [
    {
     "name": "stdout",
     "output_type": "stream",
     "text": [
      "Rahul\n",
      "Dheeraj\n",
      "Avinash\n",
      "Tia\n",
      "['Rahul', 1]\n",
      "['Dheeraj', 2]\n",
      "['Avinash', 3]\n",
      "['Tia', 4]\n",
      "{'Rahul': 1, 'Dheeraj': 2, 'Avinash': 3, 'Tia': 4}\n",
      "26\n",
      "45\n",
      "54\n",
      "78\n",
      "74\n",
      "3\n",
      "5\n"
     ]
    }
   ],
   "source": [
    "list1 = [\"Rahul\", \"Dheeraj\", \"Avinash\", \"Tia\"]\n",
    "for item in list1:\n",
    "  print(item)\n",
    "list2 = [ [\"Rahul\", 1], [\"Dheeraj\", 2], [\"Avinash\", 3], [\"Tia\", 4] ]\n",
    "for item in list2:\n",
    "  print(item)\n",
    "\n",
    "dict1 = dict(list2)                  # Lists Se Dictionary Kaise Banaye\n",
    "print(dict1)\n",
    "\n",
    "#for item, rank in dict1.items():     # Item ka istemaal.\n",
    "#     print(item,\"rank is\", rank)\n",
    "\n",
    "#for item in dict1:                    # Jo Naya Dictionary Bana hai uska Item ko Print Kr dega.\n",
    "#     print(item)\n",
    "\n",
    "items = [int, float, \"Rahul\", 26, 45, 54, 78, 74, 3, 5]\n",
    "for item in items:                           # Items me jo special hai usko print Kr wa diye.\n",
    "    if str(item).isnumeric() and item >= 3:\n",
    "        print(item)"
   ]
  },
  {
   "cell_type": "markdown",
   "id": "f047d49f-f054-421e-b10f-6f001ae1f003",
   "metadata": {},
   "source": [
    "# Lect_009"
   ]
  },
  {
   "cell_type": "raw",
   "id": "108fe70c-893b-45f2-b569-04c49622e569",
   "metadata": {},
   "source": [
    "while loop."
   ]
  },
  {
   "cell_type": "code",
   "execution_count": 28,
   "id": "349b21c9-a4c8-4278-820d-bf83ea372bab",
   "metadata": {},
   "outputs": [
    {
     "name": "stdout",
     "output_type": "stream",
     "text": [
      "0\n",
      "1\n",
      "2\n",
      "3\n",
      "4\n",
      "5\n",
      "6\n",
      "7\n",
      "8\n",
      "9\n"
     ]
    }
   ],
   "source": [
    "i = 0\n",
    "while (i < 10):\n",
    "    print(i)\n",
    "    i = i + 1    # Agar 1 ke jagah 2 likhe ro bs 2 ka Diff. aa jaega."
   ]
  },
  {
   "cell_type": "markdown",
   "id": "0696efa9-ca14-4037-b0c1-cc96c7139ef3",
   "metadata": {},
   "source": [
    "# Lect_010"
   ]
  },
  {
   "cell_type": "raw",
   "id": "8cd773cc-55a7-4c38-af86-726e319adc09",
   "metadata": {},
   "source": [
    "break and continue statement."
   ]
  },
  {
   "cell_type": "code",
   "execution_count": 33,
   "id": "67c2c51b-f9cc-427c-a8b1-6c0cff872f12",
   "metadata": {},
   "outputs": [
    {
     "name": "stdout",
     "output_type": "stream",
     "text": [
      "5 6 7 8 9 10 11 12 13 14 15 16 17 18 19 20 21 22 23 24 25 26 27 28 29 30 31 32 33 34 35 36 37 38 39 40 41 42 43 44 45 46 47 48 49 50 51 "
     ]
    },
    {
     "name": "stdin",
     "output_type": "stream",
     "text": [
      "Enter a number:  105\n"
     ]
    },
    {
     "name": "stdout",
     "output_type": "stream",
     "text": [
      "Congratulations, You entered a number greater than 100.\n"
     ]
    }
   ],
   "source": [
    "i = 0\n",
    "\n",
    "while(True):\n",
    "    if i+1<5:\n",
    "        i = i + 1\n",
    "        continue\n",
    "    print(i + 1, end=\" \")\n",
    "    if (i==50):\n",
    "        break\n",
    "    i = i + 1 \n",
    "\n",
    "\n",
    "while(True):\n",
    "    num = int(input(\"Enter a number: \"))\n",
    "    if num>100:\n",
    "        print(\"Congratulations, You entered a number greater than 100.\")\n",
    "        break\n",
    "    else:\n",
    "        print(\"Try again.\\n\")\n",
    "        continue\n",
    "        #i = i + 1'''"
   ]
  },
  {
   "cell_type": "markdown",
   "id": "0636a398-919e-4ccc-9977-b9762f2d4260",
   "metadata": {},
   "source": [
    "# Lect_011"
   ]
  },
  {
   "cell_type": "raw",
   "id": "4432c950-977f-4588-8cff-bb8b0f66d28d",
   "metadata": {},
   "source": [
    "Operators in Python."
   ]
  },
  {
   "cell_type": "code",
   "execution_count": 36,
   "id": "92101a7d-d57f-4042-9b0f-3a5eab4f7f4e",
   "metadata": {},
   "outputs": [],
   "source": [
    "##Arithmetic Operators.\n",
    "#print(\"5 + 6 is \", 5+6)\n",
    "#print(\"5 - 6 is \", 5-6)\n",
    "#print(\"5 * 6 is \", 5*6)\n",
    "#print(\"5 / 6 is \", 5/6)\n",
    "#print(\"5 ** 6 is \", 5**6)\n",
    "#print(\"15 // 6 is \", 15//6)\n",
    "# Assignment Operators.\n",
    "#x = 5\n",
    "#print(x)#\n",
    "#x %= 7\n",
    "#print(x)\n",
    "# Comparison Operators.\n",
    "#i = 5\n",
    "#print(i>=5)\n",
    "#print(i <= 4)\n",
    "#Logical Operators.\n",
    "#a = True\n",
    "#b = False#\n",
    "#print(a and a)\n",
    "#print(a and b)\n",
    "#print(a or b)\n",
    "# Identity Operators.\n",
    "#print (a is not b)\n",
    "#print (5 is not 5)\n",
    "#print (1 is not 5)\n",
    "# Membership Operators.\n",
    "#list = [3, 2, 21, 22, 89, 76, 93, 45]\n",
    "#print(324 not in list)\n",
    "# Bitwise Operators."
   ]
  },
  {
   "cell_type": "markdown",
   "id": "e70acb0c-7584-4e8f-96ff-7763b241ef35",
   "metadata": {},
   "source": [
    "# Lect_012"
   ]
  },
  {
   "cell_type": "raw",
   "id": "ec474ae9-8ff2-4041-94ab-075eaab4ae11",
   "metadata": {},
   "source": [
    "Use Of Def In Python"
   ]
  },
  {
   "cell_type": "code",
   "execution_count": 39,
   "id": "d84be201-0f49-4c76-bb30-59a8d8e2f085",
   "metadata": {},
   "outputs": [
    {
     "name": "stdout",
     "output_type": "stream",
     "text": [
      "Hello, User! Welcome to the world of Python.\n"
     ]
    }
   ],
   "source": [
    "# Define a function to greet a user\n",
    "def greet(name):\n",
    "    print(f\"Hello, {name}! Welcome to the world of Python.\")\n",
    "\n",
    "# Function ko call karo argument ke through\n",
    "greet(\"User\")"
   ]
  },
  {
   "cell_type": "markdown",
   "id": "83f8614a-301e-4eed-8d93-128aa93bf435",
   "metadata": {},
   "source": [
    "# Lect_013"
   ]
  },
  {
   "cell_type": "raw",
   "id": "e082341d-895d-44dc-826f-bffcc23d09fc",
   "metadata": {},
   "source": [
    "Try and Except in python"
   ]
  },
  {
   "cell_type": "code",
   "execution_count": 42,
   "id": "601be9b3-e2bd-49bd-a0c9-3448f793a643",
   "metadata": {},
   "outputs": [
    {
     "name": "stdout",
     "output_type": "stream",
     "text": [
      "Please enter Num1: \n"
     ]
    },
    {
     "name": "stdin",
     "output_type": "stream",
     "text": [
      " 25\n"
     ]
    },
    {
     "name": "stdout",
     "output_type": "stream",
     "text": [
      "Please enter Num2: \n"
     ]
    },
    {
     "name": "stdin",
     "output_type": "stream",
     "text": [
      " 11\n"
     ]
    },
    {
     "name": "stdout",
     "output_type": "stream",
     "text": [
      "The sum of 2 numbers:  36\n",
      "This line is very IMP.\n"
     ]
    }
   ],
   "source": [
    "print(\"Please enter Num1: \")\n",
    "num1 = input()\n",
    "\n",
    "print(\"Please enter Num2: \")\n",
    "num2 = input()\n",
    "try:\n",
    "    print(\"The sum of 2 numbers: \", int(num1) + int(num2))\n",
    "except Exception as e:\n",
    "    print(e)\n",
    "\n",
    "print(\"This line is very IMP.\")"
   ]
  },
  {
   "cell_type": "markdown",
   "id": "5304249a-f7dc-44af-baa8-45e28de2163d",
   "metadata": {},
   "source": [
    "# Lect_14"
   ]
  },
  {
   "cell_type": "code",
   "execution_count": null,
   "id": "2e2fa62d-eb55-4f5a-88ec-7f3c56633fcd",
   "metadata": {},
   "outputs": [],
   "source": []
  }
 ],
 "metadata": {
  "kernelspec": {
   "display_name": "Python 3 (ipykernel)",
   "language": "python",
   "name": "python3"
  },
  "language_info": {
   "codemirror_mode": {
    "name": "ipython",
    "version": 3
   },
   "file_extension": ".py",
   "mimetype": "text/x-python",
   "name": "python",
   "nbconvert_exporter": "python",
   "pygments_lexer": "ipython3",
   "version": "3.12.4"
  }
 },
 "nbformat": 4,
 "nbformat_minor": 5
}
