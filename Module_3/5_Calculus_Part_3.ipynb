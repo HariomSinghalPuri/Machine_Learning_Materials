{
 "cells": [
  {
   "cell_type": "code",
   "execution_count": 3,
   "id": "27382dbe-5b5e-4960-b817-637b7d18b574",
   "metadata": {},
   "outputs": [
    {
     "name": "stdout",
     "output_type": "stream",
     "text": [
      "Requirement already satisfied: sympy in c:\\users\\wwwsi\\anaconda3\\lib\\site-packages (1.12)\n",
      "Requirement already satisfied: mpmath>=0.19 in c:\\users\\wwwsi\\anaconda3\\lib\\site-packages (from sympy) (1.3.0)\n"
     ]
    }
   ],
   "source": [
    "!pip install sympy"
   ]
  },
  {
   "cell_type": "code",
   "execution_count": 7,
   "id": "8eaaa425-74ce-4da7-9bc2-3b9b7fbf7913",
   "metadata": {},
   "outputs": [
    {
     "name": "stdout",
     "output_type": "stream",
     "text": [
      "derivative of sin(x) is cos(x)\n"
     ]
    }
   ],
   "source": [
    "#sympy (Library to do calculus with python)\n",
    "import sympy as sym \n",
    "x = sym.symbols('x')\n",
    "derivative_1= sym.diff(sym.sin(x),x)\n",
    "print(f\"derivative of sin(x) is {derivative_1}\")"
   ]
  },
  {
   "cell_type": "code",
   "execution_count": 17,
   "id": "07885168-55a3-481b-a7fd-0d4ce2a3d759",
   "metadata": {},
   "outputs": [
    {
     "name": "stdout",
     "output_type": "stream",
     "text": [
      "derivative of cos(x**2) is -2*x*sin(x**2)\n"
     ]
    }
   ],
   "source": [
    "# like any other function \n",
    "import sympy as sym \n",
    "x = sym.symbols('x')\n",
    "derivative_1= sym.diff(sym.cos(x**2),x)\n",
    "print(f\"derivative of cos(x**2) is {derivative_1}\")"
   ]
  },
  {
   "cell_type": "raw",
   "id": "f6b2b882-a017-416f-9e39-fa0ad1bb4c03",
   "metadata": {},
   "source": [
    "Now agar hm apna function define krna chahte hai to !!!!"
   ]
  },
  {
   "cell_type": "code",
   "execution_count": 31,
   "id": "28637816-0404-4062-86e7-168af260fe5e",
   "metadata": {},
   "outputs": [
    {
     "name": "stdout",
     "output_type": "stream",
     "text": [
      "derivative of sin^2(x^2) + e^(x^2) is 2*x*exp(x**2) + 2*sin(x)*cos(x)\n"
     ]
    }
   ],
   "source": [
    "import sympy as sym \n",
    "x = sym.symbols('x')\n",
    "func = sym.sin(x)**2+sym.exp(x**2)\n",
    "derivative_1 = sym.diff(func,x)\n",
    "print(f\"derivative of sin^2(x^2) + e^(x^2) is {derivative_1}\")"
   ]
  },
  {
   "cell_type": "raw",
   "id": "e656c73b-ed97-414e-bebd-7a10665800a7",
   "metadata": {},
   "source": [
    "now agar ab man kiya wo func do abhi define kiye hai usko do baar differntiate krna to !!!"
   ]
  },
  {
   "cell_type": "code",
   "execution_count": 33,
   "id": "a2548cef-1bea-4428-81d6-95aba754c166",
   "metadata": {},
   "outputs": [
    {
     "name": "stdout",
     "output_type": "stream",
     "text": [
      "Second derivative of sin^2(x^2) + e^(x^2) is 2*x*exp(x**2) + 2*sin(x)*cos(x)\n"
     ]
    }
   ],
   "source": [
    "# Remember \n",
    "# sym.diff(func,var,n)\n",
    "# Where n represents the number of differntiations \n",
    "\n",
    "import sympy as sym \n",
    "x = sym.symbols('x')\n",
    "func = sym.sin(x)**2+sym.exp(x**2)\n",
    "derivative_2 = sym.diff(func,x,2)\n",
    "print(f\"Second derivative of sin^2(x^2) + e^(x^2) is {derivative_1}\")"
   ]
  },
  {
   "cell_type": "raw",
   "id": "8589bac9-f701-489b-b54f-d56bb5b123d2",
   "metadata": {},
   "source": [
    "now Agar ab x ,y ,z agar function me aa gaya tab "
   ]
  },
  {
   "cell_type": "code",
   "execution_count": 53,
   "id": "bb7a31ed-00fa-411e-863e-bbf7a3bcc1e7",
   "metadata": {},
   "outputs": [
    {
     "name": "stdout",
     "output_type": "stream",
     "text": [
      "First derivative of x**3 + 2*x*y + z**3 with respect to x is 3*x**2 + 2*y\n",
      "First derivative of x**3 + 2*x*y + z**3 with respect to x is 2*x\n",
      "First derivative of x**3 + 2*x*y + z**3 with respect to x is 3*z**2\n"
     ]
    }
   ],
   "source": [
    "import sympy as sym \n",
    "x, y, z = sym.symbols('x y z')  # Properly define all symbols\n",
    "func = x**3 + 2*x*y + z**3\n",
    "\n",
    "derivativex = sym.diff(func, x)  # First derivative with respect to x\n",
    "derivativey = sym.diff(func, y)  # First derivative with respect to y\n",
    "derivativez = sym.diff(func, z)  # First derivative with respect to z\n",
    "\n",
    "\n",
    "print(f\"First derivative of {func} with respect to x is {derivativex}\")\n",
    "print(f\"First derivative of {func} with respect to x is {derivativey}\")\n",
    "print(f\"First derivative of {func} with respect to x is {derivativez}\")"
   ]
  },
  {
   "cell_type": "raw",
   "id": "77f819a1-2cc1-4f7f-96b2-38c095886eb5",
   "metadata": {},
   "source": [
    "now agar hmko bs x ka 2nd order partial derivative chaiye tb !!!"
   ]
  },
  {
   "cell_type": "code",
   "execution_count": 60,
   "id": "f71813f6-a0ef-4053-800c-51d13895b3ab",
   "metadata": {},
   "outputs": [
    {
     "name": "stdout",
     "output_type": "stream",
     "text": [
      "Second derivative of x**3 + 2*x*y + z**3 with respect to x is 6*x\n"
     ]
    }
   ],
   "source": [
    "import sympy as sym \n",
    "x, y, z = sym.symbols('x y z')  # Properly define all symbols\n",
    "func = x**3 + 2*x*y + z**3\n",
    "\n",
    "derivativex = sym.diff(func,x,x)  # 2nd derivative with respect to x\n",
    "print(f\"Second derivative of {func} with respect to x is {derivativex}\")"
   ]
  },
  {
   "cell_type": "markdown",
   "id": "1c596f8f-794c-457e-804e-47c98922a528",
   "metadata": {},
   "source": [
    "# Now ab Integration pr Ate hai "
   ]
  },
  {
   "cell_type": "raw",
   "id": "58b5e9a4-df22-474a-8b55-6875b9d8fb7a",
   "metadata": {},
   "source": [
    "see using \n",
    "sym.integrate(func,var) ---> we will get the integration as indefinite form  \n",
    "sym.integrate(func, ((var), lower_limit, Upper_limit)) ---> we will get the integration in definite form "
   ]
  },
  {
   "cell_type": "code",
   "execution_count": 89,
   "id": "5e5a5735-4ca0-4bd3-84a9-45814a5d0d52",
   "metadata": {},
   "outputs": [
    {
     "name": "stdout",
     "output_type": "stream",
     "text": [
      "Integration of sin(x)  is -cos(x)\n"
     ]
    }
   ],
   "source": [
    "import sympy as sym \n",
    "x = sym.symbols('x')  # Properly define all symbols\n",
    "func = sym.sin(x)\n",
    "intg = sym.integrate(func,x)\n",
    "print(f\"Integration of {func}  is {intg}\")"
   ]
  },
  {
   "cell_type": "raw",
   "id": "6022dc49-db1e-402a-928c-c32845adf9b6",
   "metadata": {},
   "source": [
    "now agar limit lagana pada to !!!"
   ]
  },
  {
   "cell_type": "code",
   "execution_count": 91,
   "id": "8a3f0f19-c028-404b-8ac0-1b72a0657c6f",
   "metadata": {},
   "outputs": [
    {
     "name": "stdout",
     "output_type": "stream",
     "text": [
      "Integration of exp(-x) with limit 0->infinity  is 1\n"
     ]
    }
   ],
   "source": [
    "import sympy as sym \n",
    "x = sym.symbols('x')  # Properly define all symbols\n",
    "func = sym.exp(-x)\n",
    "\n",
    "# Like i want to use infinity as limit  ---> use sym.oo --> Infinity\n",
    "intg = sym.integrate(func,(x,0,sym.oo))\n",
    "\n",
    "print(f\"Integration of {func} with limit 0->infinity  is {intg}\")"
   ]
  },
  {
   "cell_type": "raw",
   "id": "bba99c9a-52ac-488a-9587-5b116c6d10d9",
   "metadata": {},
   "source": [
    "chalo Varibale badhate hai !!!"
   ]
  },
  {
   "cell_type": "code",
   "execution_count": 95,
   "id": "27119aed-931d-404e-9abb-025d479ef9d4",
   "metadata": {},
   "outputs": [
    {
     "name": "stdout",
     "output_type": "stream",
     "text": [
      "Integration of exp(-x**2 - y**2) with limit for x is -infinity->infinity and  limit for y is -infinity->infinity is pi\n"
     ]
    }
   ],
   "source": [
    "import sympy as sym \n",
    "x,y = sym.symbols('x,y')  # Properly define all symbols\n",
    "func = sym.exp(-x**2-y**2)\n",
    "\n",
    "# Like i want to use infinity as limit  ---> use sym.oo --> Infinity\n",
    "intg = sym.integrate(func,(x,-sym.oo,sym.oo),(y,-sym.oo,sym.oo))\n",
    "\n",
    "print(f\"Integration of {func} with limit for x is -infinity->infinity and  limit for y is -infinity->infinity is {intg}\")"
   ]
  },
  {
   "cell_type": "raw",
   "id": "fe21fbe5-52e5-436d-9ed6-8d6d195e841f",
   "metadata": {},
   "source": [
    "now agar hmko limits chahiye ab !!!"
   ]
  },
  {
   "cell_type": "raw",
   "id": "0a9c6381-5b43-4d80-b967-4c8ae759fd78",
   "metadata": {},
   "source": [
    "Limits \n",
    "Use ---> sym.limit(func,var,point)"
   ]
  },
  {
   "cell_type": "code",
   "execution_count": 101,
   "id": "d56db0f7-fb0b-46e7-8bc7-e544da0b135e",
   "metadata": {},
   "outputs": [
    {
     "name": "stdout",
     "output_type": "stream",
     "text": [
      " limit of sin(x)  is 0\n"
     ]
    }
   ],
   "source": [
    "import sympy as sym \n",
    "x = sym.symbols('x')  # Properly define all symbols\n",
    "func = sym.sin(x)\n",
    "limit1 = sym.limit(func,x,0)\n",
    "print(f\" limit of {func}  is {limit1}\")"
   ]
  },
  {
   "cell_type": "raw",
   "id": "c3a24326-f3da-407a-a072-29c5d1effb33",
   "metadata": {},
   "source": [
    "Agar Hmko Series Expansion chaiye tb \n",
    "sym.series(function,x,x0,n)"
   ]
  },
  {
   "cell_type": "code",
   "execution_count": 125,
   "id": "c624e7bd-efdd-4144-b384-acdfe2136ac5",
   "metadata": {},
   "outputs": [
    {
     "name": "stdout",
     "output_type": "stream",
     "text": [
      "Expansion of sin(x) is sin(3) + (x - 3)*cos(3) - (x - 3)**2*sin(3)/2 - (x - 3)**3*cos(3)/6 + (x - 3)**4*sin(3)/24 + (x - 3)**5*cos(3)/120 + O((x - 3)**6, (x, 3))\n"
     ]
    }
   ],
   "source": [
    "import sympy as sym \n",
    "x = sym.symbols('x')  # Properly define all symbols\n",
    "func = sym.sin(x)\n",
    "expansion = sym.series(func,x,3) #---> kuch nhi dale to wo 0 se start kr dega\n",
    "print(f\"Expansion of {func} is {exp}\")"
   ]
  },
  {
   "cell_type": "raw",
   "id": "74ae2c6c-310f-4673-8607-fe38b6ac305f",
   "metadata": {},
   "source": [
    "like hmko series me 2 se 4 hi chaiye bs tab "
   ]
  },
  {
   "cell_type": "code",
   "execution_count": 139,
   "id": "311becb4-a78a-472a-9181-7e3ecd87b28b",
   "metadata": {},
   "outputs": [
    {
     "name": "stdout",
     "output_type": "stream",
     "text": [
      "Expansion of exp(x) is:\n",
      "1 + x + x**2/2 + x**3/6 + x**4/24 + O(x**5)\n"
     ]
    }
   ],
   "source": [
    "import sympy as sym \n",
    "\n",
    "x = sym.symbols('x')  # Define the symbol\n",
    "func = sym.exp(x)     # Corrected: Use exp(x) instead of exp**x\n",
    "\n",
    "# Expand exp(x) around x=0 (Maclaurin series) up to 4th order\n",
    "expansion = sym.series(func, x, 0, 5)  # n=5 gives terms up to x^4\n",
    "\n",
    "print(f\"Expansion of {func} is:\\n{expansion}\")"
   ]
  }
 ],
 "metadata": {
  "kernelspec": {
   "display_name": "Python 3 (ipykernel)",
   "language": "python",
   "name": "python3"
  },
  "language_info": {
   "codemirror_mode": {
    "name": "ipython",
    "version": 3
   },
   "file_extension": ".py",
   "mimetype": "text/x-python",
   "name": "python",
   "nbconvert_exporter": "python",
   "pygments_lexer": "ipython3",
   "version": "3.12.4"
  }
 },
 "nbformat": 4,
 "nbformat_minor": 5
}
